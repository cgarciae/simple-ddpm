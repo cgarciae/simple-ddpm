{
    "cells": [
        {
            "cell_type": "markdown",
            "id": "863db7f7",
            "metadata": {},
            "source": [
                "# Denoising Diffusion Models\n",
                "\n",
                "[![Open In Colab](https://colab.research.google.com/assets/colab-badge.svg)](https://colab.research.google.com/github/cgarciae/simple-ddpm/blob/master/notebooks/ddpm_2d.ipynb)\n",
                "\n",
                "\n",
                "<details><summary>Setup</summary>"
            ]
        },
        {
            "cell_type": "code",
            "execution_count": null,
            "id": "f5d13b22",
            "metadata": {
                "tags": [
                    "hide_cell",
                    "hide-cell"
                ]
            },
            "outputs": [],
            "source": [
                "# Uncomment these line the first time you run the notebook\n",
                "# ! pip install flax einop\n",
                "# ! pip install --no-deps clu"
            ]
        },
        {
            "cell_type": "code",
            "execution_count": null,
            "id": "a7921f34",
            "metadata": {
                "tags": [
                    "hide_cell",
                    "hide-cell"
                ]
            },
            "outputs": [],
            "source": [
                "import matplotlib.pyplot as plt\n",
                "import numpy as np\n",
                "import tensorflow as tf\n",
                "from sklearn.datasets import make_blobs, make_moons\n",
                "from sklearn.preprocessing import MinMaxScaler\n",
                "\n",
                "dataset: str = \"moons\"\n",
                "batch_size: int = 128\n",
                "total_samples: int = 5_000_000\n",
                "epochs: int = 10\n",
                "steps_per_epoch = total_samples // (epochs * batch_size)\n",
                "total_steps = total_samples // batch_size\n",
                "\n",
                "\n",
                "def get_data():\n",
                "    if dataset == \"moons\":\n",
                "        X, y = make_moons(n_samples=1000, noise=0.1, random_state=0)\n",
                "    elif dataset == \"blobs\":\n",
                "        X = make_blobs(n_samples=1000, centers=6, cluster_std=0.5, random_state=6)[0]\n",
                "    else:\n",
                "        raise ValueError(f\"Unknown dataset: {dataset}\")\n",
                "\n",
                "    X = MinMaxScaler((-1, 1)).fit_transform(X)\n",
                "    ds = tf.data.Dataset.from_tensor_slices(X.astype(np.float32))\n",
                "    ds = ds.repeat()\n",
                "    ds = ds.shuffle(seed=42, buffer_size=1_000)\n",
                "    ds = ds.batch(batch_size, drop_remainder=True)\n",
                "    ds = ds.prefetch(tf.data.AUTOTUNE)\n",
                "\n",
                "    return X, ds"
            ]
        },
        {
            "cell_type": "markdown",
            "id": "1dceb5a8",
            "metadata": {},
            "source": [
                "</details>"
            ]
        },
        {
            "cell_type": "code",
            "execution_count": null,
            "id": "e7b83a3a",
            "metadata": {},
            "outputs": [],
            "source": [
                "X, ds = get_data()\n",
                "\n",
                "plt.figure()\n",
                "plt.scatter(X[:, 0], X[:, 1], s=1)\n",
                "plt.axis(\"off\")\n",
                "plt.show()"
            ]
        },
        {
            "cell_type": "markdown",
            "id": "4c806c06",
            "metadata": {},
            "source": [
                "## Forward Process\n",
                "![forward](images/forward.png)"
            ]
        },
        {
            "cell_type": "code",
            "execution_count": null,
            "id": "9c32f24d",
            "metadata": {},
            "outputs": [],
            "source": [
                "import jax\n",
                "import jax.numpy as jnp\n",
                "from flax.struct import PyTreeNode\n",
                "\n",
                "class GaussianDiffusion(PyTreeNode):\n",
                "    betas: jnp.ndarray\n",
                "    alphas: jnp.ndarray\n",
                "    alpha_bars: jnp.ndarray\n",
                "\n",
                "    @classmethod\n",
                "    def create(cls, betas: jnp.ndarray) -> \"GaussianDiffusion\":\n",
                "        return cls(\n",
                "            betas=betas,\n",
                "            alphas=1.0 - betas,\n",
                "            alpha_bars=jnp.cumprod(1.0 - betas),\n",
                "        )\n",
                "\n",
                "@jax.jit\n",
                "def forward_diffusion(process: GaussianDiffusion, key, x0, t):\n",
                "    alpha_bars = expand_to(process.alpha_bars[t], x0)\n",
                "    noise = jax.random.normal(key, x0.shape)\n",
                "    xt = jnp.sqrt(alpha_bars) * x0 + jnp.sqrt(1.0 - alpha_bars) * noise\n",
                "    return xt, noise\n",
                "\n",
                "def expand_to(a, b):\n",
                "    new_shape = a.shape + (1,) * (b.ndim - a.ndim)\n",
                "    return a.reshape(new_shape)"
            ]
        },
        {
            "cell_type": "markdown",
            "id": "9d4bdf14",
            "metadata": {},
            "source": [
                "## Variance Schedule\n",
                "<details><summary>Schedules Definition</summary>"
            ]
        },
        {
            "cell_type": "code",
            "execution_count": null,
            "id": "a7764625",
            "metadata": {},
            "outputs": [],
            "source": [
                "# schedules\n",
                "def polynomial_schedule(beta_start, beta_end, timesteps, exponent=2.0, **kwargs):\n",
                "    betas = jnp.linspace(0, 1, timesteps) ** exponent\n",
                "    return betas * (beta_end - beta_start) + beta_start\n",
                "\n",
                "\n",
                "def sigmoid_schedule(beta_start, beta_end, timesteps, **kwargs):\n",
                "    betas = jax.nn.sigmoid(jnp.linspace(-6, 6, timesteps))\n",
                "    return betas * (beta_end - beta_start) + beta_start\n",
                "\n",
                "\n",
                "def cosine_schedule(beta_start, beta_end, timesteps, s=0.008, **kwargs):\n",
                "    x = jnp.linspace(0, timesteps, timesteps + 1)\n",
                "    ft = jnp.cos(((x / timesteps) + s) / (1 + s) * jnp.pi * 0.5) ** 2\n",
                "    alphas_cumprod = ft / ft[0]\n",
                "    betas = 1 - (alphas_cumprod[1:] / alphas_cumprod[:-1])\n",
                "    betas = jnp.clip(betas, 0.0001, 0.9999)\n",
                "    betas = (betas - betas.min()) / (betas.max() - betas.min())\n",
                "    return betas * (beta_end - beta_start) + beta_start\n",
                "\n",
                "\n",
                "# TODO: create a plot for each schedule\n",
                "def plot_schedules(beta_start, beta_end, timesteps):\n",
                "    schedules = [polynomial_schedule, sigmoid_schedule, cosine_schedule]\n",
                "    _, axs = plt.subplots(1, 3, figsize=(12, 4))\n",
                "    for i in range(3):\n",
                "        schedule = schedules[i]\n",
                "        betas = schedule(beta_start, beta_end, timesteps)\n",
                "        axs[i].plot(betas)\n",
                "        axs[i].set_title(schedule.__name__)\n",
                "        linear = polynomial_schedule(\n",
                "            betas.min(), betas.max(), timesteps, exponent=1.0\n",
                "        )\n",
                "        axs[i].plot(linear, label=\"linear\", color=\"black\", linestyle=\"dotted\")\n",
                "\n",
                "    plt.show()\n",
                "\n",
                "def plot_final_schedule(process, schedule, betas):\n",
                "    timesteps = len(betas)\n",
                "    n_rows = 2\n",
                "    n_cols = 7\n",
                "\n",
                "    plt.figure(figsize=(n_cols * 3, n_rows * 3))\n",
                "    for i, ti in enumerate(jnp.linspace(0, timesteps, n_cols).astype(int)):\n",
                "        t = jnp.full((X.shape[0],), ti)\n",
                "        xt, noise = forward_diffusion(process, jax.random.PRNGKey(ti), X, t)\n",
                "        plt.subplot(n_rows, n_cols, i + 1)\n",
                "        plt.scatter(xt[:, 0], xt[:, 1], s=1)\n",
                "        plt.axis(\"off\")\n",
                "\n",
                "    plt.subplot(2, 1, 2)\n",
                "    linear = polynomial_schedule(\n",
                "        betas.min(), betas.max(), timesteps, exponent=1.0\n",
                "    )\n",
                "    plt.plot(linear, label=\"linear\", color=\"black\", linestyle=\"dotted\")\n",
                "    plt.plot(betas)\n",
                "    for s in [\"top\", \"bottom\", \"left\", \"right\"]:\n",
                "        plt.gca().spines[s].set_visible(False)\n",
                "\n",
                "    plt.show()"
            ]
        },
        {
            "cell_type": "markdown",
            "id": "b4b71b7b",
            "metadata": {},
            "source": [
                "</details>"
            ]
        },
        {
            "cell_type": "code",
            "execution_count": null,
            "id": "d5d43f6c",
            "metadata": {},
            "outputs": [],
            "source": [
                "# diffusion\n",
                "diffusion_schedule: str = \"cosine\"\n",
                "diffusion_beta_start: float = 1e-5\n",
                "diffusion_beta_end: float = 0.01\n",
                "diffusion_timesteps: int = 1_000\n",
                "\n",
                "plot_schedules(diffusion_beta_start, diffusion_beta_end, diffusion_timesteps)"
            ]
        },
        {
            "cell_type": "code",
            "execution_count": null,
            "id": "58d846e2",
            "metadata": {},
            "outputs": [],
            "source": [
                "\n",
                "\n",
                "if diffusion_schedule == \"polynomial\":\n",
                "    schedule = polynomial_schedule\n",
                "elif diffusion_schedule == \"sigmoid\":\n",
                "    schedule = sigmoid_schedule\n",
                "elif diffusion_schedule == \"cosine\":\n",
                "    schedule = cosine_schedule\n",
                "else:\n",
                "    raise ValueError(f\"Unknown schedule {diffusion_schedule}\")\n",
                "\n",
                "betas = schedule(diffusion_beta_start, diffusion_beta_end, diffusion_timesteps)\n",
                "process = GaussianDiffusion.create(betas)\n",
                "\n",
                "plot_final_schedule(process, schedule, betas)"
            ]
        },
        {
            "cell_type": "markdown",
            "id": "ee3f6dd1",
            "metadata": {},
            "source": [
                "## Model Definition\n",
                "<details><summary>Model Architecture</summary>"
            ]
        },
        {
            "cell_type": "code",
            "execution_count": null,
            "id": "82e00563",
            "metadata": {},
            "outputs": [],
            "source": [
                "\n",
                "from flax import struct\n",
                "import flax.linen as nn\n",
                "\n",
                "class SinusoidalPosEmb(nn.Module):\n",
                "    dim: int\n",
                "\n",
                "    def __call__(self, t):\n",
                "        half_dim = self.dim // 2\n",
                "        mul = jnp.log(10000) / (half_dim - 1)\n",
                "        emb = jnp.exp(-mul * jnp.arange(half_dim))\n",
                "        emb = t[:, None] * emb[None, :]\n",
                "        emb = jnp.concatenate([jnp.sin(emb), jnp.cos(emb)], axis=-1)\n",
                "        return emb\n",
                "\n",
                "\n",
                "class TimeConditionedDense(nn.Module):\n",
                "    units: int\n",
                "    emb_dim: int\n",
                "\n",
                "    @nn.compact\n",
                "    def __call__(self, *, x, t):\n",
                "        t_embeddings = SinusoidalPosEmb(self.emb_dim)(t)\n",
                "        x = jnp.concatenate([x, t_embeddings], axis=-1)\n",
                "        x = nn.Dense(self.units)(x)\n",
                "        return x\n",
                "\n",
                "\n",
                "class Denoiser(nn.Module):\n",
                "    units: int = 128\n",
                "    emb_dim: int = 32\n",
                "\n",
                "    @nn.compact\n",
                "    def __call__(self, *, x, t):\n",
                "        inputs_units = x.shape[-1]\n",
                "        dense = lambda units: TimeConditionedDense(units, self.emb_dim)\n",
                "        x = nn.relu(dense(self.units)(x=x, t=t))\n",
                "        x = nn.relu(dense(self.units)(x=x, t=t)) + x\n",
                "        x = nn.relu(dense(self.units)(x=x, t=t)) + x\n",
                "        x = dense(inputs_units)(x=x, t=t)\n",
                "        return x"
            ]
        },
        {
            "cell_type": "markdown",
            "id": "bb09db68",
            "metadata": {},
            "source": [
                "</details>"
            ]
        },
        {
            "cell_type": "code",
            "execution_count": null,
            "id": "35525119",
            "metadata": {},
            "outputs": [],
            "source": [
                "model_units: int = 128\n",
                "model_emb_dim: int = 32\n",
                "\n",
                "module = Denoiser(units=model_units, emb_dim=model_emb_dim)\n",
                "\n",
                "print(module.tabulate(\n",
                "    jax.random.PRNGKey(42), x=X[:1], t=jnp.array([0]), \n",
                "    depth=1, console_kwargs=dict(width=500, no_color=True, force_terminal=False)))"
            ]
        },
        {
            "cell_type": "markdown",
            "id": "eba33dfc",
            "metadata": {},
            "source": [
                "# Training State\n",
                "<details><summary>Define TrainState and Metrics</summary>"
            ]
        },
        {
            "cell_type": "code",
            "execution_count": null,
            "id": "b6f5ee3f",
            "metadata": {},
            "outputs": [],
            "source": [
                "from clu.metrics import Average, Collection\n",
                "from flax.training import train_state\n",
                "\n",
                "@struct.dataclass\n",
                "class Metrics(Collection):\n",
                "    loss: Average.from_output(\"loss\")\n",
                "\n",
                "    def update(self, **kwargs) -> \"Metrics\":\n",
                "        updates = self.single_from_model_output(**kwargs)\n",
                "        return self.merge(updates)\n",
                "\n",
                "class TrainState(train_state.TrainState):\n",
                "    metrics: Metrics"
            ]
        },
        {
            "cell_type": "markdown",
            "id": "85c67719",
            "metadata": {},
            "source": [
                "</details>"
            ]
        },
        {
            "cell_type": "code",
            "execution_count": null,
            "id": "b089b0ad",
            "metadata": {},
            "outputs": [],
            "source": [
                "import optax\n",
                "\n",
                "lr_start: float = 1e-3\n",
                "drop_1_mult: float = 0.1\n",
                "drop_2_mult: float = 0.1\n",
                "\n",
                "lr_schedule = optax.piecewise_constant_schedule(\n",
                "    lr_start,\n",
                "    {\n",
                "        int(total_steps * 1 / 3): drop_1_mult,\n",
                "        int(total_steps * 2 / 3): drop_2_mult,\n",
                "    },\n",
                ")\n",
                "\n",
                "variables = module.init(jax.random.PRNGKey(42), x=X[:1], t=jnp.array([0]))\n",
                "state: TrainState = TrainState.create(\n",
                "    apply_fn=module.apply, \n",
                "    params=variables[\"params\"], \n",
                "    tx=optax.chain(\n",
                "        optax.clip_by_global_norm(1.0),\n",
                "        optax.adamw(lr_schedule),\n",
                "    ),\n",
                "    metrics=Metrics.empty(),\n",
                ")"
            ]
        },
        {
            "cell_type": "markdown",
            "id": "9437681d",
            "metadata": {},
            "source": [
                "## Sampling Procedure\n",
                "![ddpm-sampling](images/ddpm-sampling.png)"
            ]
        },
        {
            "cell_type": "code",
            "execution_count": null,
            "id": "37cd25ce",
            "metadata": {},
            "outputs": [],
            "source": [
                "from functools import partial\n",
                "from einop import einop\n",
                "\n",
                "\n",
                "@jax.jit\n",
                "def reverse_diffusion(process: GaussianDiffusion, key, x, noise_hat, t):\n",
                "    betas = expand_to(process.betas[t], x)\n",
                "    alphas = expand_to(process.alphas[t], x)\n",
                "    alpha_bars = expand_to(process.alpha_bars[t], x)\n",
                "\n",
                "    z = jnp.where(\n",
                "        expand_to(t, x) > 0, jax.random.normal(key, x.shape), jnp.zeros_like(x)\n",
                "    )\n",
                "    noise_scaled = betas / jnp.sqrt(1.0 - alpha_bars) * noise_hat\n",
                "    x = (x - noise_scaled) / jnp.sqrt(alphas) + jnp.sqrt(betas) * z\n",
                "    return x\n",
                "\n",
                "@partial(jax.jit, static_argnames=[\"return_all\"])\n",
                "def sample(key, x0, ts, params, process):\n",
                "    print(\"compiling 'sample' ...\")\n",
                "    keys = jax.random.split(key, len(ts))\n",
                "    ts = einop(ts, \"t -> t b\", b=x0.shape[0])\n",
                "\n",
                "    def scan_fn(x, inputs):\n",
                "        t, key = inputs\n",
                "        noise_hat = module.apply({\"params\": params}, x=x, t=t)\n",
                "        x = reverse_diffusion(process, key, x, noise_hat, t)\n",
                "        return x, x\n",
                "\n",
                "    x, xs = jax.lax.scan(scan_fn, x0, (ts, keys))\n",
                "    return xs"
            ]
        },
        {
            "cell_type": "markdown",
            "id": "e09b03b6",
            "metadata": {},
            "source": [
                "## Training"
            ]
        },
        {
            "cell_type": "code",
            "execution_count": null,
            "id": "2d88d04b",
            "metadata": {},
            "outputs": [],
            "source": [
                "loss_type: str = \"mae\"\n",
                "\n",
                "if loss_type == \"mse\":\n",
                "    loss_metric = lambda a, b: jnp.mean((a - b) ** 2)\n",
                "elif loss_type == \"mae\":\n",
                "    loss_metric = lambda a, b: jnp.mean(jnp.abs(a - b))\n",
                "else:\n",
                "    raise ValueError(f\"Unknown loss type {loss_type}\")\n",
                "\n",
                "\n",
                "\n",
                "def loss_fn(params, x, t, noise):\n",
                "    noise_hat = state.apply_fn({\"params\": params}, x=x, t=t)\n",
                "    return loss_metric(noise, noise_hat)\n",
                "\n",
                "\n",
                "@jax.jit\n",
                "def train_step(key, x, state: TrainState, process: GaussianDiffusion):\n",
                "    print(\"compiling 'train_step' ...\")\n",
                "    key_t, key_diffusion, key = jax.random.split(key, 3)\n",
                "    t = jax.random.uniform(\n",
                "        key_t, (x.shape[0],), minval=0, maxval=diffusion_timesteps - 1\n",
                "    ).astype(jnp.int32)\n",
                "    xt, noise = forward_diffusion(process, key_diffusion, x, t)\n",
                "    loss, grads = jax.value_and_grad(loss_fn)(state.params, xt, t, noise)\n",
                "    metrics = state.metrics.update(loss=loss)\n",
                "    state = state.apply_gradients(grads=grads, metrics=metrics)\n",
                "    logs = metrics.compute()\n",
                "    return logs, key, state"
            ]
        },
        {
            "cell_type": "markdown",
            "id": "73180dfc",
            "metadata": {},
            "source": [
                "#### Training loop\n",
                "\n",
                "<details><summary>viz_progress</summary>\n"
            ]
        },
        {
            "cell_type": "code",
            "execution_count": null,
            "id": "38f82ae0",
            "metadata": {},
            "outputs": [],
            "source": [
                "\n",
                "def viz_progress(state, process):\n",
                "    n_cols = 7\n",
                "    n_samples = 1000\n",
                "    viz_key = jax.random.PRNGKey(1)\n",
                "    x = jax.random.normal(viz_key, (n_samples, *X.shape[1:]))\n",
                "\n",
                "    ts = np.arange(diffusion_timesteps)[::-1]\n",
                "    xs = np.asarray(sample(viz_key, x, ts, state.params, process))\n",
                "    _, axs_diffusion = plt.subplots(1, n_cols, figsize=(n_cols * 3, 3))\n",
                "\n",
                "    ts = jnp.linspace(0, diffusion_timesteps - 1, n_cols).astype(int)\n",
                "    for i, ti in enumerate(ts):\n",
                "        axs_diffusion[i].clear()\n",
                "        axs_diffusion[i].scatter(xs[ti, :, 0], xs[ti, :, 1], s=1)\n",
                "        axs_diffusion[i].axis(\"off\")\n",
                "    plt.show()"
            ]
        },
        {
            "cell_type": "markdown",
            "id": "54a0f10c",
            "metadata": {},
            "source": [
                "</details>"
            ]
        },
        {
            "cell_type": "code",
            "execution_count": null,
            "id": "180d6abe",
            "metadata": {},
            "outputs": [],
            "source": [
                "import numpy as np\n",
                "from tqdm import tqdm\n",
                "\n",
                "eval_every: int = 2000\n",
                "log_every: int = 200\n",
                "\n",
                "key = jax.random.PRNGKey(42)\n",
                "ds_iterator = ds.as_numpy_iterator()\n",
                "\n",
                "step = 0\n",
                "history = []"
            ]
        },
        {
            "cell_type": "code",
            "execution_count": null,
            "id": "414784c0",
            "metadata": {},
            "outputs": [],
            "source": [
                "for step in tqdm(range(step, total_steps), total=total_steps, unit=\"step\"):\n",
                "    x = ds_iterator.next()\n",
                "    logs = {}\n",
                "\n",
                "    if step % steps_per_epoch == 0:\n",
                "        viz_progress(state, process)\n",
                "\n",
                "    # --------------------\n",
                "    # trainig step\n",
                "    # --------------------\n",
                "    logs, key, state = train_step(key, x, state, process)\n",
                "    logs[\"step\"] = step\n",
                "    \n",
                "    if step % log_every == 0 and logs:\n",
                "        history.append(logs)\n",
                "        state = state.replace(metrics=state.metrics.empty())"
            ]
        },
        {
            "cell_type": "markdown",
            "id": "9e5d4097",
            "metadata": {},
            "source": [
                "#### Visualize Loss"
            ]
        },
        {
            "cell_type": "code",
            "execution_count": null,
            "id": "59de661d",
            "metadata": {},
            "outputs": [],
            "source": [
                "# plot history\n",
                "plt.figure(figsize=(10, 6))\n",
                "steps = np.array([h[\"step\"] for h in history])\n",
                "plt.plot(steps, [h[\"loss\"] for h in history], label=\"loss\")\n",
                "plt.legend()\n",
                "plt.show()"
            ]
        },
        {
            "cell_type": "markdown",
            "id": "d79eff04",
            "metadata": {},
            "source": [
                "## Analysis\n",
                "\n",
                "#### Compare samples with real data"
            ]
        },
        {
            "cell_type": "code",
            "execution_count": null,
            "id": "07394e44",
            "metadata": {},
            "outputs": [],
            "source": [
                "n_samples = 1000\n",
                "viz_key = jax.random.PRNGKey(1)\n",
                "x = jax.random.normal(viz_key, (n_samples, *X.shape[1:]))\n",
                "ts = np.arange(diffusion_timesteps)[::-1]\n",
                "x = np.asarray(sample(viz_key, x, ts, state.params, process))[-1]\n",
                "\n",
                "# plot x and X side by side\n",
                "_, axs = plt.subplots(1, 2, figsize=(12, 6))\n",
                "axs[0].scatter(x[:, 0], x[:, 1], s=1)\n",
                "axs[0].axis(\"off\")\n",
                "axs[0].set_title(\"model\")\n",
                "axs[1].scatter(X[:, 0], X[:, 1], s=1)\n",
                "axs[1].axis(\"off\")\n",
                "axs[1].set_title(\"data\")\n",
                "plt.show()"
            ]
        },
        {
            "cell_type": "markdown",
            "id": "5ca762e9",
            "metadata": {},
            "source": [
                "#### Visualize diffusion process\n",
                "\n",
                "<details><summary>plot_trajectory_2d</summary>"
            ]
        },
        {
            "cell_type": "code",
            "execution_count": null,
            "id": "a16bd65f",
            "metadata": {},
            "outputs": [],
            "source": [
                "from base64 import b64encode\n",
                "from pathlib import Path\n",
                "from tempfile import TemporaryDirectory\n",
                "\n",
                "from einop import einop\n",
                "from IPython.display import HTML, display\n",
                "from matplotlib import animation\n",
                "from IPython import get_ipython\n",
                "\n",
                "\n",
                "def plot_trajectory_2d(\n",
                "    fig,\n",
                "    xs: np.ndarray,\n",
                "    interval: int = 10,\n",
                "    repeat_delay: int = 1000,\n",
                "    step_size: int = 1,\n",
                "    end_pad: int = 500,\n",
                "):\n",
                "    xs = np.concatenate([xs[::step_size], xs[-1:]], axis=0)\n",
                "    # replace last sample to create a 'pause' effect\n",
                "    pad_end = einop(xs[-1], \"... -> batch ...\", batch=end_pad)\n",
                "    xs = np.concatenate([xs, pad_end], axis=0)\n",
                "    N = len(xs)\n",
                "    scatter = plt.scatter(xs[0][:, 0], xs[0][:, 1], s=1)\n",
                "\n",
                "    def animate(i):\n",
                "        scatter.set_offsets(xs[i])\n",
                "        return [scatter]\n",
                "\n",
                "    anim = animation.FuncAnimation(\n",
                "        fig,\n",
                "        animate,\n",
                "        init_func=lambda: animate(0),\n",
                "        frames=np.linspace(0, N - 1, N, dtype=int),\n",
                "        interval=interval,\n",
                "        repeat_delay=repeat_delay,\n",
                "        blit=True\n",
                "    )\n",
                "\n",
                "    with TemporaryDirectory() as tmpdir:\n",
                "        img_name = Path(tmpdir) / f\"diffusion.gif\"\n",
                "        anim.save(str(img_name), writer=\"pillow\", fps=60)\n",
                "        image_bytes = b64encode(img_name.read_bytes()).decode(\"utf-8\")\n",
                "\n",
                "    display(HTML(f\"\"\"<img src='data:image/gif;base64,{image_bytes}'>\"\"\"))\n",
                "    plt.close()"
            ]
        },
        {
            "cell_type": "markdown",
            "id": "1aed3ce8",
            "metadata": {},
            "source": [
                "</details>"
            ]
        },
        {
            "cell_type": "code",
            "execution_count": null,
            "id": "0a34e535",
            "metadata": {},
            "outputs": [],
            "source": [
                "x = jax.random.uniform(key, (1000, 2), minval=-1, maxval=1)\n",
                "ts = jnp.arange(diffusion_timesteps, 0, -1)\n",
                "xs = sample(key, x, ts, state.params, process)\n",
                "\n",
                "fig = plt.figure(figsize=(8, 8))\n",
                "plt.axis(\"off\")\n",
                "plot_trajectory_2d(fig, xs, step_size=4)"
            ]
        },
        {
            "cell_type": "markdown",
            "id": "9db12e3c",
            "metadata": {},
            "source": [
                "##### Visualize gradient field\n",
                "\n",
                "<details><summary>plot_gradients</summary>"
            ]
        },
        {
            "cell_type": "code",
            "execution_count": null,
            "id": "9a459c71",
            "metadata": {},
            "outputs": [],
            "source": [
                "def plot_gradient_field(x, grad, alpha=0.9, data=None):\n",
                "    grad_norm = np.linalg.norm(grad, axis=-1, ord=2, keepdims=True)\n",
                "    grad_log1p = grad / (grad_norm + 1e-9) * np.log1p(grad_norm)\n",
                "    # Perform the plots\n",
                "    \n",
                "    if data is not None:\n",
                "        plt.scatter(data[:, 0], data[:, 1], alpha=0.8, s=40)\n",
                "    \n",
                "    quiver = plt.quiver(*x.T, *grad_log1p.T, width=0.002, alpha=alpha)"
            ]
        },
        {
            "cell_type": "markdown",
            "id": "1d2ea08c",
            "metadata": {},
            "source": [
                "</details>"
            ]
        },
        {
            "cell_type": "code",
            "execution_count": null,
            "id": "37c1f1a4",
            "metadata": {},
            "outputs": [],
            "source": [
                "# create a meshgrid between -1 and 1\n",
                "xx, yy = np.meshgrid(np.linspace(-1.2, 1.2, 40), np.linspace(-1.2, 1.2, 40))\n",
                "x = np.stack([xx, yy], axis=-1).reshape(-1, 2)\n",
                "\n",
                "# get predicted noise predictions, gradient is negative noise\n",
                "t = np.array(0, dtype=jnp.int32)\n",
                "t = einop(t, \"-> batch\", batch=len(x))\n",
                "grad = -state.apply_fn({\"params\": state.params}, x=x, t=t)\n",
                "\n",
                "# create quiver plot from p_grad\n",
                "plt.figure(figsize=(8, 8))\n",
                "plt.axis(\"off\")\n",
                "plot_gradient_field(x, grad, data=X)\n"
            ]
        },
        {
            "cell_type": "markdown",
            "id": "766bb606",
            "metadata": {},
            "source": [
                "#### Visualize density function\n",
                "\n",
                "<details><summary>plot_density</summary>"
            ]
        },
        {
            "cell_type": "code",
            "execution_count": null,
            "id": "f16d0b8d",
            "metadata": {},
            "outputs": [],
            "source": [
                "def plot_density(state, ts):\n",
                "    xx, yy = np.meshgrid(np.linspace(-1.2, 1.2, 40), np.linspace(-1.2, 1.2, 40))\n",
                "    X = jnp.stack([xx, yy], axis=-1)\n",
                "\n",
                "    def mass_fn(x, t):\n",
                "        t_ = jnp.full((1,), t)\n",
                "        x_ = x[None]\n",
                "        noise_hat = state.apply_fn({'params': state.params}, x=x_, t=t_)\n",
                "        magnitud = jnp.linalg.norm(noise_hat, axis=-1, keepdims=False)\n",
                "        mass = jnp.exp(-magnitud)\n",
                "        return mass[0]\n",
                "\n",
                "    mass_fn = jax.jit(\n",
                "        jax.vmap(\n",
                "            jax.vmap(jax.vmap(mass_fn, in_axes=(0, None)), in_axes=(0, None)),\n",
                "            in_axes=(None, 0),\n",
                "            out_axes=-1,\n",
                "        )\n",
                "    )\n",
                "    mass = mass_fn(X, ts).mean(axis=-1)\n",
                "    plt.contourf(xx, yy, mass, levels=100, cmap=\"Blues\")"
            ]
        },
        {
            "cell_type": "markdown",
            "id": "2b387296",
            "metadata": {},
            "source": [
                "</details>"
            ]
        },
        {
            "cell_type": "code",
            "execution_count": null,
            "id": "fcf59079",
            "metadata": {},
            "outputs": [],
            "source": [
                "# create a contour plot using the magnitude of the gradient\n",
                "plt.figure(figsize=(8, 8))\n",
                "plt.axis(\"off\")\n",
                "\n",
                "ts = np.array([0, 1, 10], dtype=np.int32)\n",
                "plot_density(state, ts)\n",
                "plt.scatter(X[:, 0], X[:, 1], alpha=0.5, c='black', s=5)"
            ]
        }
    ],
    "metadata": {
        "kernelspec": {
            "display_name": "Python 3 (ipykernel)",
            "language": "python",
            "name": "python3"
        },
        "language_info": {
            "codemirror_mode": {
                "name": "ipython",
                "version": 3
            },
            "file_extension": ".py",
            "mimetype": "text/x-python",
            "name": "python",
            "nbconvert_exporter": "python",
            "pygments_lexer": "ipython3",
            "version": "3.8.10"
        },
        "vscode": {
            "interpreter": {
                "hash": "27159bcb7e720756e5c753a3812406735c6c3cddba3a9057505d41c6d845af9a"
            }
        }
    },
    "nbformat": 4,
    "nbformat_minor": 5
}
